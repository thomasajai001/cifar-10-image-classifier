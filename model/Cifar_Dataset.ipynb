{
  "nbformat": 4,
  "nbformat_minor": 5,
  "metadata": {
    "kernelspec": {
      "display_name": "tensorflow",
      "language": "python",
      "name": "tensorflow"
    },
    "language_info": {
      "codemirror_mode": {
        "name": "ipython",
        "version": 3
      },
      "file_extension": ".py",
      "mimetype": "text/x-python",
      "name": "python",
      "nbconvert_exporter": "python",
      "pygments_lexer": "ipython3",
      "version": "3.8.10"
    },
    "colab": {
      "name": "Cifar Dataset.ipynb",
      "provenance": [],
      "collapsed_sections": [],
      "include_colab_link": true
    }
  },
  "cells": [
    {
      "cell_type": "markdown",
      "source": [
        "<a href=\"https://colab.research.google.com/github/Alleny244/Image_Classifier_CipherDataset/blob/main/Cifar_Dataset.ipynb\" target=\"_parent\"><img src=\"https://colab.research.google.com/assets/colab-badge.svg\" alt=\"Open In Colab\"/></a>"
      ],
      "metadata": {
        "id": "view-in-github",
        "colab_type": "text"
      }
    },
    {
      "cell_type": "code",
      "execution_count": 2,
      "source": [
        "import tensorflow as tf\n",
        "from tensorflow import keras\n",
        "import matplotlib.pyplot as plt\n",
        "%matplotlib inline\n",
        "import numpy as np\n",
        "\n"
      ],
      "outputs": [],
      "metadata": {
        "id": "ecead302"
      }
    },
    {
      "cell_type": "markdown",
      "source": [
        "## Importing Cifar Dataset"
      ],
      "metadata": {
        "id": "3dd5ee8c"
      }
    },
    {
      "cell_type": "code",
      "execution_count": 3,
      "source": [
        "(x_train,y_train),(x_test,y_test)=keras.datasets.cifar10.load_data()"
      ],
      "outputs": [
        {
          "output_type": "stream",
          "name": "stdout",
          "text": [
            "Downloading data from https://www.cs.toronto.edu/~kriz/cifar-10-python.tar.gz\n",
            "170500096/170498071 [==============================] - 4s 0us/step\n"
          ]
        }
      ],
      "metadata": {
        "colab": {
          "base_uri": "https://localhost:8080/"
        },
        "id": "14a8355f",
        "outputId": "34573dc2-ec6d-42a6-d5a8-d8a76661b2f3"
      }
    },
    {
      "cell_type": "markdown",
      "source": [
        "## Find shape of the datasets"
      ],
      "metadata": {
        "id": "6036c04e"
      }
    },
    {
      "cell_type": "code",
      "execution_count": 4,
      "source": [
        "print(x_train.shape)\n",
        "print(y_train.shape)\n",
        "print(x_test.shape)\n",
        "print(y_test.shape)"
      ],
      "outputs": [
        {
          "output_type": "stream",
          "name": "stdout",
          "text": [
            "(50000, 32, 32, 3)\n",
            "(50000, 1)\n",
            "(10000, 32, 32, 3)\n",
            "(10000, 1)\n"
          ]
        }
      ],
      "metadata": {
        "colab": {
          "base_uri": "https://localhost:8080/"
        },
        "id": "974840d3",
        "outputId": "bb56e5cd-248d-4faf-e760-49aad5d1d109"
      }
    },
    {
      "cell_type": "markdown",
      "source": [
        "## First element of the training set"
      ],
      "metadata": {
        "id": "fbe3f236"
      }
    },
    {
      "cell_type": "code",
      "execution_count": 5,
      "source": [
        "x_train[0]"
      ],
      "outputs": [
        {
          "output_type": "execute_result",
          "data": {
            "text/plain": [
              "array([[[ 59,  62,  63],\n",
              "        [ 43,  46,  45],\n",
              "        [ 50,  48,  43],\n",
              "        ...,\n",
              "        [158, 132, 108],\n",
              "        [152, 125, 102],\n",
              "        [148, 124, 103]],\n",
              "\n",
              "       [[ 16,  20,  20],\n",
              "        [  0,   0,   0],\n",
              "        [ 18,   8,   0],\n",
              "        ...,\n",
              "        [123,  88,  55],\n",
              "        [119,  83,  50],\n",
              "        [122,  87,  57]],\n",
              "\n",
              "       [[ 25,  24,  21],\n",
              "        [ 16,   7,   0],\n",
              "        [ 49,  27,   8],\n",
              "        ...,\n",
              "        [118,  84,  50],\n",
              "        [120,  84,  50],\n",
              "        [109,  73,  42]],\n",
              "\n",
              "       ...,\n",
              "\n",
              "       [[208, 170,  96],\n",
              "        [201, 153,  34],\n",
              "        [198, 161,  26],\n",
              "        ...,\n",
              "        [160, 133,  70],\n",
              "        [ 56,  31,   7],\n",
              "        [ 53,  34,  20]],\n",
              "\n",
              "       [[180, 139,  96],\n",
              "        [173, 123,  42],\n",
              "        [186, 144,  30],\n",
              "        ...,\n",
              "        [184, 148,  94],\n",
              "        [ 97,  62,  34],\n",
              "        [ 83,  53,  34]],\n",
              "\n",
              "       [[177, 144, 116],\n",
              "        [168, 129,  94],\n",
              "        [179, 142,  87],\n",
              "        ...,\n",
              "        [216, 184, 140],\n",
              "        [151, 118,  84],\n",
              "        [123,  92,  72]]], dtype=uint8)"
            ]
          },
          "metadata": {
            "tags": []
          },
          "execution_count": 5
        }
      ],
      "metadata": {
        "colab": {
          "base_uri": "https://localhost:8080/"
        },
        "id": "d630d7a5",
        "outputId": "d831fd48-5f24-4d38-cafd-e1f668f368e6"
      }
    },
    {
      "cell_type": "markdown",
      "source": [
        "## Showing the  first elment as picture"
      ],
      "metadata": {
        "id": "056128f9"
      }
    },
    {
      "cell_type": "code",
      "execution_count": 6,
      "source": [
        "img=plt.imshow(x_train[0])"
      ],
      "outputs": [
        {
          "output_type": "display_data",
          "data": {
            "text/plain": [
              "<Figure size 432x288 with 1 Axes>"
            ],
            "image/png": "[encoded data removed]"
          },
          "metadata": {
            "tags": [],
            "needs_background": "light"
          }
        }
      ],
      "metadata": {
        "colab": {
          "base_uri": "https://localhost:8080/",
          "height": 266
        },
        "id": "079b6ebd",
        "outputId": "8586ba3c-3603-477c-8e48-874173dc0eb8"
      }
    },
    {
      "cell_type": "markdown",
      "source": [
        "## Get the image label"
      ],
      "metadata": {
        "id": "0bb6b247"
      }
    },
    {
      "cell_type": "code",
      "execution_count": 7,
      "source": [
        "print(\"The label of the above image is \",y_train[0])"
      ],
      "outputs": [
        {
          "output_type": "stream",
          "name": "stdout",
          "text": [
            "The label of the above image is  [6]\n"
          ]
        }
      ],
      "metadata": {
        "colab": {
          "base_uri": "https://localhost:8080/"
        },
        "id": "13af6fb1",
        "outputId": "4f6f44ba-3edd-428a-af7a-d406f9438e8a"
      }
    },
    {
      "cell_type": "markdown",
      "source": [
        "## Assigining labels to images"
      ],
      "metadata": {
        "id": "a188a09d"
      }
    },
    {
      "cell_type": "code",
      "execution_count": 8,
      "source": [
        "labels=['airplane','automobile','bird','cat','deer','dog','frog','horse','ship','truck']"
      ],
      "outputs": [],
      "metadata": {
        "id": "d5c63960"
      }
    },
    {
      "cell_type": "markdown",
      "source": [
        "## Assiging these labels to y"
      ],
      "metadata": {
        "id": "994ffcf5"
      }
    },
    {
      "cell_type": "code",
      "execution_count": 9,
      "source": [
        "print(\"Displaying the corresponding labels \",y_train[0][0],\" \",labels[y_train[0][0]])\n"
      ],
      "outputs": [
        {
          "output_type": "stream",
          "name": "stdout",
          "text": [
            "Displaying the corresponding labels  6   frog\n"
          ]
        }
      ],
      "metadata": {
        "colab": {
          "base_uri": "https://localhost:8080/"
        },
        "id": "e247bc38",
        "outputId": "1704da0b-4ea6-4c9d-d6fe-eabf5d17b2c1"
      }
    },
    {
      "cell_type": "markdown",
      "source": [
        "## Converting outputs into categorical"
      ],
      "metadata": {
        "id": "b155fed3"
      }
    },
    {
      "cell_type": "code",
      "execution_count": 10,
      "source": [
        "from tensorflow.keras.utils import to_categorical\n",
        "print(\"Before : y_train shape is: \",y_train.shape)\n",
        "y_train_hot_one =to_categorical(y_train)\n",
        "print(y_train_hot_one.shape)\n",
        "print(\"Before : y_test shape is: \",y_test.shape)\n",
        "y_test_hot_one =to_categorical(y_test)\n",
        "print(y_test_hot_one.shape)"
      ],
      "outputs": [
        {
          "output_type": "stream",
          "name": "stdout",
          "text": [
            "Before : y_train shape is:  (50000, 1)\n",
            "(50000, 10)\n",
            "Before : y_test shape is:  (10000, 1)\n",
            "(10000, 10)\n"
          ]
        }
      ],
      "metadata": {
        "colab": {
          "base_uri": "https://localhost:8080/"
        },
        "id": "e1ef0a55",
        "outputId": "6898de7e-e414-49e8-b5bc-0e137ee8907e"
      }
    },
    {
      "cell_type": "markdown",
      "source": [
        "## Demo of y_train_hot_one"
      ],
      "metadata": {
        "id": "e778eccd"
      }
    },
    {
      "cell_type": "code",
      "execution_count": 11,
      "source": [
        "y_train_hot_one"
      ],
      "outputs": [
        {
          "output_type": "execute_result",
          "data": {
            "text/plain": [
              "array([[0., 0., 0., ..., 0., 0., 0.],\n",
              "       [0., 0., 0., ..., 0., 0., 1.],\n",
              "       [0., 0., 0., ..., 0., 0., 1.],\n",
              "       ...,\n",
              "       [0., 0., 0., ..., 0., 0., 1.],\n",
              "       [0., 1., 0., ..., 0., 0., 0.],\n",
              "       [0., 1., 0., ..., 0., 0., 0.]], dtype=float32)"
            ]
          },
          "metadata": {
            "tags": []
          },
          "execution_count": 11
        }
      ],
      "metadata": {
        "colab": {
          "base_uri": "https://localhost:8080/"
        },
        "id": "890eceef",
        "outputId": "b98d57d7-b3d9-4bcc-c906-82b2a2c2d940"
      }
    },
    {
      "cell_type": "markdown",
      "source": [
        "## Normailze input pixel between 0 and 255"
      ],
      "metadata": {
        "id": "cf22dc50"
      }
    },
    {
      "cell_type": "code",
      "execution_count": 12,
      "source": [
        "x_train=x_train/255\n",
        "x_test=x_test/255\n",
        "print(x_train)"
      ],
      "outputs": [
        {
          "output_type": "stream",
          "name": "stdout",
          "text": [
            "[[[[0.23137255 0.24313725 0.24705882]\n",
            "   [0.16862745 0.18039216 0.17647059]\n",
            "   [0.19607843 0.18823529 0.16862745]\n",
            "   ...\n",
            "   [0.61960784 0.51764706 0.42352941]\n",
            "   [0.59607843 0.49019608 0.4       ]\n",
            "   [0.58039216 0.48627451 0.40392157]]\n",
            "\n",
            "  [[0.0627451  0.07843137 0.07843137]\n",
            "   [0.         0.         0.        ]\n",
            "   [0.07058824 0.03137255 0.        ]\n",
            "   ...\n",
            "   [0.48235294 0.34509804 0.21568627]\n",
            "   [0.46666667 0.3254902  0.19607843]\n",
            "   [0.47843137 0.34117647 0.22352941]]\n",
            "\n",
            "  [[0.09803922 0.09411765 0.08235294]\n",
            "   [0.0627451  0.02745098 0.        ]\n",
            "   [0.19215686 0.10588235 0.03137255]\n",
            "   ...\n",
            "   [0.4627451  0.32941176 0.19607843]\n",
            "   [0.47058824 0.32941176 0.19607843]\n",
            "   [0.42745098 0.28627451 0.16470588]]\n",
            "\n",
            "  ...\n",
            "\n",
            "  [[0.81568627 0.66666667 0.37647059]\n",
            "   [0.78823529 0.6        0.13333333]\n",
            "   [0.77647059 0.63137255 0.10196078]\n",
            "   ...\n",
            "   [0.62745098 0.52156863 0.2745098 ]\n",
            "   [0.21960784 0.12156863 0.02745098]\n",
            "   [0.20784314 0.13333333 0.07843137]]\n",
            "\n",
            "  [[0.70588235 0.54509804 0.37647059]\n",
            "   [0.67843137 0.48235294 0.16470588]\n",
            "   [0.72941176 0.56470588 0.11764706]\n",
            "   ...\n",
            "   [0.72156863 0.58039216 0.36862745]\n",
            "   [0.38039216 0.24313725 0.13333333]\n",
            "   [0.3254902  0.20784314 0.13333333]]\n",
            "\n",
            "  [[0.69411765 0.56470588 0.45490196]\n",
            "   [0.65882353 0.50588235 0.36862745]\n",
            "   [0.70196078 0.55686275 0.34117647]\n",
            "   ...\n",
            "   [0.84705882 0.72156863 0.54901961]\n",
            "   [0.59215686 0.4627451  0.32941176]\n",
            "   [0.48235294 0.36078431 0.28235294]]]\n",
            "\n",
            "\n",
            " [[[0.60392157 0.69411765 0.73333333]\n",
            "   [0.49411765 0.5372549  0.53333333]\n",
            "   [0.41176471 0.40784314 0.37254902]\n",
            "   ...\n",
            "   [0.35686275 0.37254902 0.27843137]\n",
            "   [0.34117647 0.35294118 0.27843137]\n",
            "   [0.30980392 0.31764706 0.2745098 ]]\n",
            "\n",
            "  [[0.54901961 0.62745098 0.6627451 ]\n",
            "   [0.56862745 0.6        0.60392157]\n",
            "   [0.49019608 0.49019608 0.4627451 ]\n",
            "   ...\n",
            "   [0.37647059 0.38823529 0.30588235]\n",
            "   [0.30196078 0.31372549 0.24313725]\n",
            "   [0.27843137 0.28627451 0.23921569]]\n",
            "\n",
            "  [[0.54901961 0.60784314 0.64313725]\n",
            "   [0.54509804 0.57254902 0.58431373]\n",
            "   [0.45098039 0.45098039 0.43921569]\n",
            "   ...\n",
            "   [0.30980392 0.32156863 0.25098039]\n",
            "   [0.26666667 0.2745098  0.21568627]\n",
            "   [0.2627451  0.27058824 0.21568627]]\n",
            "\n",
            "  ...\n",
            "\n",
            "  [[0.68627451 0.65490196 0.65098039]\n",
            "   [0.61176471 0.60392157 0.62745098]\n",
            "   [0.60392157 0.62745098 0.66666667]\n",
            "   ...\n",
            "   [0.16470588 0.13333333 0.14117647]\n",
            "   [0.23921569 0.20784314 0.22352941]\n",
            "   [0.36470588 0.3254902  0.35686275]]\n",
            "\n",
            "  [[0.64705882 0.60392157 0.50196078]\n",
            "   [0.61176471 0.59607843 0.50980392]\n",
            "   [0.62352941 0.63137255 0.55686275]\n",
            "   ...\n",
            "   [0.40392157 0.36470588 0.37647059]\n",
            "   [0.48235294 0.44705882 0.47058824]\n",
            "   [0.51372549 0.4745098  0.51372549]]\n",
            "\n",
            "  [[0.63921569 0.58039216 0.47058824]\n",
            "   [0.61960784 0.58039216 0.47843137]\n",
            "   [0.63921569 0.61176471 0.52156863]\n",
            "   ...\n",
            "   [0.56078431 0.52156863 0.54509804]\n",
            "   [0.56078431 0.5254902  0.55686275]\n",
            "   [0.56078431 0.52156863 0.56470588]]]\n",
            "\n",
            "\n",
            " [[[1.         1.         1.        ]\n",
            "   [0.99215686 0.99215686 0.99215686]\n",
            "   [0.99215686 0.99215686 0.99215686]\n",
            "   ...\n",
            "   [0.99215686 0.99215686 0.99215686]\n",
            "   [0.99215686 0.99215686 0.99215686]\n",
            "   [0.99215686 0.99215686 0.99215686]]\n",
            "\n",
            "  [[1.         1.         1.        ]\n",
            "   [1.         1.         1.        ]\n",
            "   [1.         1.         1.        ]\n",
            "   ...\n",
            "   [1.         1.         1.        ]\n",
            "   [1.         1.         1.        ]\n",
            "   [1.         1.         1.        ]]\n",
            "\n",
            "  [[1.         1.         1.        ]\n",
            "   [0.99607843 0.99607843 0.99607843]\n",
            "   [0.99607843 0.99607843 0.99607843]\n",
            "   ...\n",
            "   [0.99607843 0.99607843 0.99607843]\n",
            "   [0.99607843 0.99607843 0.99607843]\n",
            "   [0.99607843 0.99607843 0.99607843]]\n",
            "\n",
            "  ...\n",
            "\n",
            "  [[0.44313725 0.47058824 0.43921569]\n",
            "   [0.43529412 0.4627451  0.43529412]\n",
            "   [0.41176471 0.43921569 0.41568627]\n",
            "   ...\n",
            "   [0.28235294 0.31764706 0.31372549]\n",
            "   [0.28235294 0.31372549 0.30980392]\n",
            "   [0.28235294 0.31372549 0.30980392]]\n",
            "\n",
            "  [[0.43529412 0.4627451  0.43137255]\n",
            "   [0.40784314 0.43529412 0.40784314]\n",
            "   [0.38823529 0.41568627 0.38431373]\n",
            "   ...\n",
            "   [0.26666667 0.29411765 0.28627451]\n",
            "   [0.2745098  0.29803922 0.29411765]\n",
            "   [0.30588235 0.32941176 0.32156863]]\n",
            "\n",
            "  [[0.41568627 0.44313725 0.41176471]\n",
            "   [0.38823529 0.41568627 0.38431373]\n",
            "   [0.37254902 0.4        0.36862745]\n",
            "   ...\n",
            "   [0.30588235 0.33333333 0.3254902 ]\n",
            "   [0.30980392 0.33333333 0.3254902 ]\n",
            "   [0.31372549 0.3372549  0.32941176]]]\n",
            "\n",
            "\n",
            " ...\n",
            "\n",
            "\n",
            " [[[0.1372549  0.69803922 0.92156863]\n",
            "   [0.15686275 0.69019608 0.9372549 ]\n",
            "   [0.16470588 0.69019608 0.94509804]\n",
            "   ...\n",
            "   [0.38823529 0.69411765 0.85882353]\n",
            "   [0.30980392 0.57647059 0.77254902]\n",
            "   [0.34901961 0.58039216 0.74117647]]\n",
            "\n",
            "  [[0.22352941 0.71372549 0.91764706]\n",
            "   [0.17254902 0.72156863 0.98039216]\n",
            "   [0.19607843 0.71764706 0.94117647]\n",
            "   ...\n",
            "   [0.61176471 0.71372549 0.78431373]\n",
            "   [0.55294118 0.69411765 0.80784314]\n",
            "   [0.45490196 0.58431373 0.68627451]]\n",
            "\n",
            "  [[0.38431373 0.77254902 0.92941176]\n",
            "   [0.25098039 0.74117647 0.98823529]\n",
            "   [0.27058824 0.75294118 0.96078431]\n",
            "   ...\n",
            "   [0.7372549  0.76470588 0.80784314]\n",
            "   [0.46666667 0.52941176 0.57647059]\n",
            "   [0.23921569 0.30980392 0.35294118]]\n",
            "\n",
            "  ...\n",
            "\n",
            "  [[0.28627451 0.30980392 0.30196078]\n",
            "   [0.20784314 0.24705882 0.26666667]\n",
            "   [0.21176471 0.26666667 0.31372549]\n",
            "   ...\n",
            "   [0.06666667 0.15686275 0.25098039]\n",
            "   [0.08235294 0.14117647 0.2       ]\n",
            "   [0.12941176 0.18823529 0.19215686]]\n",
            "\n",
            "  [[0.23921569 0.26666667 0.29411765]\n",
            "   [0.21568627 0.2745098  0.3372549 ]\n",
            "   [0.22352941 0.30980392 0.40392157]\n",
            "   ...\n",
            "   [0.09411765 0.18823529 0.28235294]\n",
            "   [0.06666667 0.1372549  0.20784314]\n",
            "   [0.02745098 0.09019608 0.1254902 ]]\n",
            "\n",
            "  [[0.17254902 0.21960784 0.28627451]\n",
            "   [0.18039216 0.25882353 0.34509804]\n",
            "   [0.19215686 0.30196078 0.41176471]\n",
            "   ...\n",
            "   [0.10588235 0.20392157 0.30196078]\n",
            "   [0.08235294 0.16862745 0.25882353]\n",
            "   [0.04705882 0.12156863 0.19607843]]]\n",
            "\n",
            "\n",
            " [[[0.74117647 0.82745098 0.94117647]\n",
            "   [0.72941176 0.81568627 0.9254902 ]\n",
            "   [0.7254902  0.81176471 0.92156863]\n",
            "   ...\n",
            "   [0.68627451 0.76470588 0.87843137]\n",
            "   [0.6745098  0.76078431 0.87058824]\n",
            "   [0.6627451  0.76078431 0.8627451 ]]\n",
            "\n",
            "  [[0.76078431 0.82352941 0.9372549 ]\n",
            "   [0.74901961 0.81176471 0.9254902 ]\n",
            "   [0.74509804 0.80784314 0.92156863]\n",
            "   ...\n",
            "   [0.67843137 0.75294118 0.8627451 ]\n",
            "   [0.67058824 0.74901961 0.85490196]\n",
            "   [0.65490196 0.74509804 0.84705882]]\n",
            "\n",
            "  [[0.81568627 0.85882353 0.95686275]\n",
            "   [0.80392157 0.84705882 0.94117647]\n",
            "   [0.8        0.84313725 0.9372549 ]\n",
            "   ...\n",
            "   [0.68627451 0.74901961 0.85098039]\n",
            "   [0.6745098  0.74509804 0.84705882]\n",
            "   [0.6627451  0.74901961 0.84313725]]\n",
            "\n",
            "  ...\n",
            "\n",
            "  [[0.81176471 0.78039216 0.70980392]\n",
            "   [0.79607843 0.76470588 0.68627451]\n",
            "   [0.79607843 0.76862745 0.67843137]\n",
            "   ...\n",
            "   [0.52941176 0.51764706 0.49803922]\n",
            "   [0.63529412 0.61960784 0.58823529]\n",
            "   [0.65882353 0.63921569 0.59215686]]\n",
            "\n",
            "  [[0.77647059 0.74509804 0.66666667]\n",
            "   [0.74117647 0.70980392 0.62352941]\n",
            "   [0.70588235 0.6745098  0.57647059]\n",
            "   ...\n",
            "   [0.69803922 0.67058824 0.62745098]\n",
            "   [0.68627451 0.6627451  0.61176471]\n",
            "   [0.68627451 0.6627451  0.60392157]]\n",
            "\n",
            "  [[0.77647059 0.74117647 0.67843137]\n",
            "   [0.74117647 0.70980392 0.63529412]\n",
            "   [0.69803922 0.66666667 0.58431373]\n",
            "   ...\n",
            "   [0.76470588 0.72156863 0.6627451 ]\n",
            "   [0.76862745 0.74117647 0.67058824]\n",
            "   [0.76470588 0.74509804 0.67058824]]]\n",
            "\n",
            "\n",
            " [[[0.89803922 0.89803922 0.9372549 ]\n",
            "   [0.9254902  0.92941176 0.96862745]\n",
            "   [0.91764706 0.9254902  0.96862745]\n",
            "   ...\n",
            "   [0.85098039 0.85882353 0.91372549]\n",
            "   [0.86666667 0.8745098  0.91764706]\n",
            "   [0.87058824 0.8745098  0.91372549]]\n",
            "\n",
            "  [[0.87058824 0.86666667 0.89803922]\n",
            "   [0.9372549  0.9372549  0.97647059]\n",
            "   [0.91372549 0.91764706 0.96470588]\n",
            "   ...\n",
            "   [0.8745098  0.8745098  0.9254902 ]\n",
            "   [0.89019608 0.89411765 0.93333333]\n",
            "   [0.82352941 0.82745098 0.8627451 ]]\n",
            "\n",
            "  [[0.83529412 0.80784314 0.82745098]\n",
            "   [0.91764706 0.90980392 0.9372549 ]\n",
            "   [0.90588235 0.91372549 0.95686275]\n",
            "   ...\n",
            "   [0.8627451  0.8627451  0.90980392]\n",
            "   [0.8627451  0.85882353 0.90980392]\n",
            "   [0.79215686 0.79607843 0.84313725]]\n",
            "\n",
            "  ...\n",
            "\n",
            "  [[0.58823529 0.56078431 0.52941176]\n",
            "   [0.54901961 0.52941176 0.49803922]\n",
            "   [0.51764706 0.49803922 0.47058824]\n",
            "   ...\n",
            "   [0.87843137 0.87058824 0.85490196]\n",
            "   [0.90196078 0.89411765 0.88235294]\n",
            "   [0.94509804 0.94509804 0.93333333]]\n",
            "\n",
            "  [[0.5372549  0.51764706 0.49411765]\n",
            "   [0.50980392 0.49803922 0.47058824]\n",
            "   [0.49019608 0.4745098  0.45098039]\n",
            "   ...\n",
            "   [0.70980392 0.70588235 0.69803922]\n",
            "   [0.79215686 0.78823529 0.77647059]\n",
            "   [0.83137255 0.82745098 0.81176471]]\n",
            "\n",
            "  [[0.47843137 0.46666667 0.44705882]\n",
            "   [0.4627451  0.45490196 0.43137255]\n",
            "   [0.47058824 0.45490196 0.43529412]\n",
            "   ...\n",
            "   [0.70196078 0.69411765 0.67843137]\n",
            "   [0.64313725 0.64313725 0.63529412]\n",
            "   [0.63921569 0.63921569 0.63137255]]]]\n"
          ]
        }
      ],
      "metadata": {
        "colab": {
          "base_uri": "https://localhost:8080/"
        },
        "id": "68233aaa",
        "outputId": "d79e5088-bf21-4489-f331-8862a644420d"
      }
    },
    {
      "cell_type": "markdown",
      "source": [
        "## Creating models with keras"
      ],
      "metadata": {
        "id": "84c01e2b"
      }
    },
    {
      "cell_type": "code",
      "execution_count": 13,
      "source": [
        "cnn=keras.Sequential([\n",
        "    keras.layers.Conv2D( activation='relu',kernel_size=(3,3),input_shape=(32,32,3),filters=32),\n",
        "    keras.layers.MaxPool2D((2,2)),\n",
        "    keras.layers.Conv2D( activation='relu',kernel_size=(3,3),filters=32),\n",
        "    keras.layers.MaxPool2D((2,2)),\n",
        "\n",
        "    keras.layers.Flatten(),\n",
        "    keras.layers.Dense(1500,activation='relu'),\n",
        "    keras.layers.Dropout(0.5),\n",
        "    keras.layers.Dense(750,activation='relu'),\n",
        "    keras.layers.Dropout(0.5),\n",
        "    keras.layers.Dense(300,activation='relu'),\n",
        "    keras.layers.Dropout(0.5),\n",
        "    keras.layers.Dense(10,activation='softmax'),\n",
        "    #softmax\n",
        "    \n",
        "])"
      ],
      "outputs": [],
      "metadata": {
        "id": "9enOqH7CUWXO"
      }
    },
    {
      "cell_type": "code",
      "execution_count": 14,
      "source": [
        "## Compiling the model\n",
        "cnn.compile(\n",
        "optimizer='adam',\n",
        "loss='categorical_crossentropy',\n",
        "metrics=['accuracy'],\n",
        "    \n",
        ")"
      ],
      "outputs": [],
      "metadata": {
        "id": "A4bmvD53WnnO"
      }
    },
    {
      "cell_type": "code",
      "execution_count": 15,
      "source": [
        "##Training the model\n",
        "cnn.fit(x_train,y_train_hot_one,epochs=15)"
      ],
      "outputs": [
        {
          "output_type": "stream",
          "name": "stdout",
          "text": [
            "Epoch 1/15\n",
            "1563/1563 [==============================] - 106s 67ms/step - loss: 1.5906 - accuracy: 0.4155\n",
            "Epoch 2/15\n",
            "1563/1563 [==============================] - 103s 66ms/step - loss: 1.2600 - accuracy: 0.5571\n",
            "Epoch 3/15\n",
            "1563/1563 [==============================] - 103s 66ms/step - loss: 1.1151 - accuracy: 0.6164\n",
            "Epoch 4/15\n",
            "1563/1563 [==============================] - 102s 65ms/step - loss: 1.0157 - accuracy: 0.6500\n",
            "Epoch 5/15\n",
            "1563/1563 [==============================] - 101s 65ms/step - loss: 0.9365 - accuracy: 0.6799\n",
            "Epoch 6/15\n",
            "1563/1563 [==============================] - 102s 65ms/step - loss: 0.8782 - accuracy: 0.6996\n",
            "Epoch 7/15\n",
            "1563/1563 [==============================] - 102s 65ms/step - loss: 0.8169 - accuracy: 0.7219\n",
            "Epoch 8/15\n",
            "1563/1563 [==============================] - 102s 65ms/step - loss: 0.7748 - accuracy: 0.7354\n",
            "Epoch 9/15\n",
            "1563/1563 [==============================] - 102s 65ms/step - loss: 0.7183 - accuracy: 0.7556\n",
            "Epoch 10/15\n",
            "1563/1563 [==============================] - 102s 65ms/step - loss: 0.6769 - accuracy: 0.7711\n",
            "Epoch 11/15\n",
            "1563/1563 [==============================] - 102s 65ms/step - loss: 0.6421 - accuracy: 0.7836\n",
            "Epoch 12/15\n",
            "1563/1563 [==============================] - 103s 66ms/step - loss: 0.5986 - accuracy: 0.7984\n",
            "Epoch 13/15\n",
            "1563/1563 [==============================] - 103s 66ms/step - loss: 0.5715 - accuracy: 0.8058\n",
            "Epoch 14/15\n",
            "1563/1563 [==============================] - 105s 67ms/step - loss: 0.5440 - accuracy: 0.8179\n",
            "Epoch 15/15\n",
            "1563/1563 [==============================] - 104s 66ms/step - loss: 0.5121 - accuracy: 0.8281\n"
          ]
        },
        {
          "output_type": "execute_result",
          "data": {
            "text/plain": [
              "<tensorflow.python.keras.callbacks.History at 0x7f867f571ed0>"
            ]
          },
          "metadata": {
            "tags": []
          },
          "execution_count": 15
        }
      ],
      "metadata": {
        "colab": {
          "base_uri": "https://localhost:8080/"
        },
        "id": "xaTE-rIMW50A",
        "outputId": "6c930a61-7127-47f6-c493-5cf94f149b71"
      }
    },
    {
      "cell_type": "code",
      "execution_count": 16,
      "source": [
        "cnn.evaluate(x_test,y_test_hot_one)"
      ],
      "outputs": [
        {
          "output_type": "stream",
          "name": "stdout",
          "text": [
            "313/313 [==============================] - 5s 16ms/step - loss: 0.9725 - accuracy: 0.7023\n"
          ]
        },
        {
          "output_type": "execute_result",
          "data": {
            "text/plain": [
              "[0.9724794030189514, 0.7023000121116638]"
            ]
          },
          "metadata": {
            "tags": []
          },
          "execution_count": 16
        }
      ],
      "metadata": {
        "colab": {
          "base_uri": "https://localhost:8080/"
        },
        "id": "Lg-vitgribON",
        "outputId": "f7ca091e-09d2-4e3f-d950-f919ac305d04"
      }
    },
    {
      "cell_type": "code",
      "execution_count": 17,
      "source": [
        "from sklearn.metrics import classification_report,confusion_matrix\n",
        "y_pred=cnn.predict(x_test)\n",
        "y_pred_class=[np.argmax(y) for y in y_pred]\n",
        "y_pred_class\n",
        "print(classification_report(y_test,y_pred_class))"
      ],
      "outputs": [
        {
          "output_type": "stream",
          "name": "stdout",
          "text": [
            "              precision    recall  f1-score   support\n",
            "\n",
            "           0       0.78      0.73      0.76      1000\n",
            "           1       0.87      0.78      0.82      1000\n",
            "           2       0.67      0.54      0.60      1000\n",
            "           3       0.50      0.50      0.50      1000\n",
            "           4       0.57      0.69      0.63      1000\n",
            "           5       0.63      0.55      0.59      1000\n",
            "           6       0.77      0.81      0.79      1000\n",
            "           7       0.68      0.81      0.74      1000\n",
            "           8       0.82      0.77      0.80      1000\n",
            "           9       0.75      0.84      0.79      1000\n",
            "\n",
            "    accuracy                           0.70     10000\n",
            "   macro avg       0.71      0.70      0.70     10000\n",
            "weighted avg       0.71      0.70      0.70     10000\n",
            "\n"
          ]
        }
      ],
      "metadata": {
        "colab": {
          "base_uri": "https://localhost:8080/"
        },
        "id": "v4f-BOsjiyHK",
        "outputId": "1096dbec-c987-4471-e07e-1d67ddc56942"
      }
    },
    {
      "cell_type": "code",
      "execution_count": 18,
      "source": [
        "cnn.summary()\n"
      ],
      "outputs": [
        {
          "output_type": "stream",
          "name": "stdout",
          "text": [
            "Model: \"sequential\"\n",
            "_________________________________________________________________\n",
            "Layer (type)                 Output Shape              Param #   \n",
            "=================================================================\n",
            "conv2d (Conv2D)              (None, 30, 30, 32)        896       \n",
            "_________________________________________________________________\n",
            "max_pooling2d (MaxPooling2D) (None, 15, 15, 32)        0         \n",
            "_________________________________________________________________\n",
            "conv2d_1 (Conv2D)            (None, 13, 13, 32)        9248      \n",
            "_________________________________________________________________\n",
            "max_pooling2d_1 (MaxPooling2 (None, 6, 6, 32)          0         \n",
            "_________________________________________________________________\n",
            "flatten (Flatten)            (None, 1152)              0         \n",
            "_________________________________________________________________\n",
            "dense (Dense)                (None, 1500)              1729500   \n",
            "_________________________________________________________________\n",
            "dropout (Dropout)            (None, 1500)              0         \n",
            "_________________________________________________________________\n",
            "dense_1 (Dense)              (None, 750)               1125750   \n",
            "_________________________________________________________________\n",
            "dropout_1 (Dropout)          (None, 750)               0         \n",
            "_________________________________________________________________\n",
            "dense_2 (Dense)              (None, 300)               225300    \n",
            "_________________________________________________________________\n",
            "dropout_2 (Dropout)          (None, 300)               0         \n",
            "_________________________________________________________________\n",
            "dense_3 (Dense)              (None, 10)                3010      \n",
            "=================================================================\n",
            "Total params: 3,093,704\n",
            "Trainable params: 3,093,704\n",
            "Non-trainable params: 0\n",
            "_________________________________________________________________\n"
          ]
        }
      ],
      "metadata": {
        "id": "GLg8j16ueXn0",
        "colab": {
          "base_uri": "https://localhost:8080/"
        },
        "outputId": "d5f819c1-7ea6-442a-d77a-180a5888b14d"
      }
    },
    {
      "cell_type": "code",
      "execution_count": 40,
      "source": [
        "from google.colab import files\n",
        "uploaded=files.upload()"
      ],
      "outputs": [
        {
          "output_type": "display_data",
          "data": {
            "text/plain": [
              "<IPython.core.display.HTML object>"
            ],
            "text/html": [
              "\n",
              "     <input type=\"file\" id=\"files-6203b872-d7e7-4826-abb7-783a7a601204\" name=\"files[]\" multiple disabled\n",
              "        style=\"border:none\" />\n",
              "     <output id=\"result-6203b872-d7e7-4826-abb7-783a7a601204\">\n",
              "      Upload widget is only available when the cell has been executed in the\n",
              "      current browser session. Please rerun this cell to enable.\n",
              "      </output>\n",
              "      <script src=\"/nbextensions/google.colab/files.js\"></script> "
            ]
          },
          "metadata": {
            "tags": []
          }
        },
        {
          "output_type": "stream",
          "name": "stdout",
          "text": [
            "Saving test.jpg to test.jpg\n"
          ]
        }
      ],
      "metadata": {
        "colab": {
          "resources": {
            "http://localhost:8080/nbextensions/google.colab/files.js": {
              "data": "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",
              "ok": true,
              "headers": [
                [
                  "content-type",
                  "application/javascript"
                ]
              ],
              "status": 200,
              "status_text": ""
            }
          },
          "base_uri": "https://localhost:8080/",
          "height": 72
        },
        "id": "6X1dPbj_b1vM",
        "outputId": "1cc22170-a308-4081-e57f-f80f9550a80d"
      }
    },
    {
      "cell_type": "code",
      "execution_count": 50,
      "source": [
        "\n",
        "plt.imshow(image)\n",
        "\n",
        "##processsing the image\n"
      ],
      "outputs": [
        {
          "output_type": "display_data",
          "data": {
            "text/plain": [
              "<Figure size 432x288 with 1 Axes>"
            ],
            "image/png": "[encoded data removed]"
          },
          "metadata": {
            "tags": [],
            "needs_background": "light"
          }
        }
      ],
      "metadata": {
        "colab": {
          "base_uri": "https://localhost:8080/",
          "height": 266
        },
        "id": "REtDPxencONd",
        "outputId": "95c999d8-3aff-4c85-8bb8-ace9640046ab"
      }
    },
    {
      "cell_type": "code",
      "execution_count": 75,
      "source": [
        "def predict_output(x):\n",
        "  image=plt.imread(x)\n",
        "  from skimage.transform import resize\n",
        "  resized_image=resize(image,(32,32,3))\n",
        "  x_t=np.array(resized_image)\n",
        "  x_t=x_t.reshape(-1,32,32,3)\n",
        "  predictions=cnn.predict(x_t)#input value\n",
        "  predict_class=np.argmax(predictions)\n",
        "  print(labels[predict_class])\n",
        "  return labels[predict_class]\n",
        "\n"
      ],
      "outputs": [],
      "metadata": {
        "id": "ROg6kurKl7nW"
      }
    },
    {
      "cell_type": "code",
      "execution_count": 25,
      "source": [
        "labels[y_test[5][0]]"
      ],
      "outputs": [
        {
          "output_type": "execute_result",
          "data": {
            "text/plain": [
              "'frog'"
            ],
            "application/vnd.google.colaboratory.intrinsic+json": {
              "type": "string"
            }
          },
          "metadata": {
            "tags": []
          },
          "execution_count": 25
        }
      ],
      "metadata": {
        "colab": {
          "base_uri": "https://localhost:8080/",
          "height": 35
        },
        "id": "7GvbLCyDjBo-",
        "outputId": "964c7ab4-4a39-435c-8bc2-c7b4914b27ec"
      }
    },
    {
      "cell_type": "markdown",
      "source": [
        "## General + Image  classifcation using ANN"
      ],
      "metadata": {
        "id": "08f49ee0"
      }
    },
    {
      "cell_type": "code",
      "execution_count": 21,
      "source": [
        "labels[y_pred_class[5]]"
      ],
      "outputs": [
        {
          "output_type": "execute_result",
          "data": {
            "text/plain": [
              "'frog'"
            ],
            "application/vnd.google.colaboratory.intrinsic+json": {
              "type": "string"
            }
          },
          "metadata": {
            "tags": []
          },
          "execution_count": 21
        }
      ],
      "metadata": {
        "colab": {
          "base_uri": "https://localhost:8080/",
          "height": 35
        },
        "id": "tAKyjJ7WjblP",
        "outputId": "03751a22-f6ad-4dbb-bb82-86b1032f70d9"
      }
    },
    {
      "cell_type": "code",
      "execution_count": 23,
      "source": [
        "# ##get the list of physical devices\n",
        "# tensorflow.config.experimental.list_physical_devices() "
      ],
      "outputs": [],
      "metadata": {
        "id": "0d2a173b"
      }
    },
    {
      "cell_type": "markdown",
      "source": [
        "## CNN"
      ],
      "metadata": {
        "id": "9904d28a"
      }
    },
    {
      "cell_type": "code",
      "execution_count": 71,
      "source": [
        "x_test[5][0]"
      ],
      "outputs": [
        {
          "output_type": "execute_result",
          "data": {
            "text/plain": [
              "array([[0.70196078, 0.4627451 , 0.3254902 ],\n",
              "       [0.54509804, 0.37647059, 0.23921569],\n",
              "       [0.30196078, 0.19215686, 0.10196078],\n",
              "       [0.34509804, 0.23137255, 0.14117647],\n",
              "       [0.55294118, 0.37647059, 0.25490196],\n",
              "       [0.61568627, 0.37254902, 0.2627451 ],\n",
              "       [0.61176471, 0.32941176, 0.22745098],\n",
              "       [0.59215686, 0.3254902 , 0.21176471],\n",
              "       [0.61176471, 0.37254902, 0.24705882],\n",
              "       [0.61960784, 0.38039216, 0.25490196],\n",
              "       [0.56470588, 0.3254902 , 0.20392157],\n",
              "       [0.59215686, 0.35294118, 0.23137255],\n",
              "       [0.59215686, 0.36078431, 0.24313725],\n",
              "       [0.53333333, 0.32156863, 0.20784314],\n",
              "       [0.4745098 , 0.29411765, 0.18039216],\n",
              "       [0.4627451 , 0.30980392, 0.20392157],\n",
              "       [0.49411765, 0.35686275, 0.27843137],\n",
              "       [0.42352941, 0.31372549, 0.25490196],\n",
              "       [0.32941176, 0.23137255, 0.16862745],\n",
              "       [0.32941176, 0.19607843, 0.15294118],\n",
              "       [0.38431373, 0.21568627, 0.18431373],\n",
              "       [0.38431373, 0.21960784, 0.18431373],\n",
              "       [0.36862745, 0.21960784, 0.17647059],\n",
              "       [0.3254902 , 0.2       , 0.14901961],\n",
              "       [0.35294118, 0.23529412, 0.18431373],\n",
              "       [0.3372549 , 0.21960784, 0.17647059],\n",
              "       [0.32941176, 0.2       , 0.16470588],\n",
              "       [0.37647059, 0.22745098, 0.19607843],\n",
              "       [0.45882353, 0.29803922, 0.27058824],\n",
              "       [0.34117647, 0.20784314, 0.18039216],\n",
              "       [0.29803922, 0.18431373, 0.16078431],\n",
              "       [0.30196078, 0.18431373, 0.16078431]])"
            ]
          },
          "metadata": {
            "tags": []
          },
          "execution_count": 71
        }
      ],
      "metadata": {
        "colab": {
          "base_uri": "https://localhost:8080/"
        },
        "id": "xJ9EvP1iY5wD",
        "outputId": "aa24f66c-4171-4ee7-ce5a-c116949d4145"
      }
    },
    {
      "cell_type": "code",
      "execution_count": 65,
      "source": [
        "!pip install -U -q PyDrive\n",
        "from pydrive.auth import GoogleAuth\n",
        "from pydrive.drive import GoogleDrive \n",
        "from google.colab import auth \n",
        "from oauth2client.client import GoogleCredentials"
      ],
      "outputs": [],
      "metadata": {
        "id": "-S5v-FAvbAGN"
      }
    },
    {
      "cell_type": "code",
      "execution_count": 67,
      "source": [
        "auth.authenticate_user()\n",
        "gauth = GoogleAuth()\n",
        "gauth.credentials = GoogleCredentials.get_application_default()  \n",
        "drive = GoogleDrive(gauth)"
      ],
      "outputs": [],
      "metadata": {
        "id": "1qTHSRPO-Nd3"
      }
    },
    {
      "cell_type": "code",
      "execution_count": 74,
      "source": [
        "cnn.save('cnn.h5')\n",
        "model_file = drive.CreateFile({'title' : 'cnn.h5'}) \n",
        "model_file.SetContentFile('models.h5')                       \n",
        "model_file.Upload()"
      ],
      "outputs": [],
      "metadata": {
        "id": "4dJBi8yh-Vzk"
      }
    }
  ]
}